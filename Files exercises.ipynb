{
 "cells": [
  {
   "cell_type": "code",
   "execution_count": 24,
   "id": "21bdaee1-0d72-489e-905f-55f55477fb42",
   "metadata": {},
   "outputs": [
    {
     "data": {
      "text/plain": [
       "308"
      ]
     },
     "execution_count": 24,
     "metadata": {},
     "output_type": "execute_result"
    }
   ],
   "source": [
    "#Q1 Create a text file called mytxt.txt\n",
    "# Save the following content in the text file:\n",
    "# \"In this section, we will use Python's built-in open function to create a file\n",
    "# and obtain the data from a \"txt\" file.\n",
    "# We will use Python's open function to get a file object.\n",
    "# We can apply a method to that object to read data from the file.\n",
    "# The first argument is the file path, the second parameter is the mode.\"\n",
    "\n",
    "f=open(\"mytxt.txt\",\"w\")\n",
    "f.write(\"In this section, we will use Python's built-in open function to create a file\\nand obtain the data from a 'txt'file.\\nWe will use Python's open function to get a file object.\\nWe can apply a method to that object to read data from the file.\\nThe first argument is the file path, the second parameter is the mode.\")\n"
   ]
  },
  {
   "cell_type": "code",
   "execution_count": 25,
   "id": "ab832a29-359a-4611-894c-fc00047eb228",
   "metadata": {},
   "outputs": [
    {
     "name": "stdout",
     "output_type": "stream",
     "text": [
      "In this section, we will use Python's built-in open function to create a file\n",
      "and obtain the data from a 'txt'file.\n",
      "We will use Python's open function to get a file object.\n",
      "We can apply a method to that object to read data from the file.\n",
      "The first argument is the file path, the second parameter is the mode.\n"
     ]
    }
   ],
   "source": [
    "#Q1 Write a Python program to read the entire mytxt file\n",
    "\n",
    "f=open(\"mytxt.txt\",\"r\")\n",
    "print(f.read())"
   ]
  },
  {
   "cell_type": "code",
   "execution_count": 39,
   "id": "f69933a6-98d5-41d2-be3f-b5eb5f8d0c14",
   "metadata": {},
   "outputs": [
    {
     "name": "stdout",
     "output_type": "stream",
     "text": [
      "We will use Python's open function to get a file object.\n",
      "We can apply a method to that object to read data from the file.\n",
      "The first argument is the file path, the second parameter is the mode."
     ]
    }
   ],
   "source": [
    "#Q2 Write a Python program to read last 3 lines of mytxt file\n",
    "with open(\"mytxt.txt\", \"r\") as f:\n",
    "    line = f.readlines()\n",
    "    last_three = lines[-3:]\n",
    "for line in last_three:\n",
    "    print(line,end='')\n"
   ]
  },
  {
   "cell_type": "code",
   "execution_count": 61,
   "id": "05c46613-b669-41b3-9a64-922b77796b22",
   "metadata": {},
   "outputs": [
    {
     "name": "stdout",
     "output_type": "stream",
     "text": [
      "and obtain the data from a 'txt'file.\n",
      "We will use Python's open function to get a file object.\n",
      "We can apply a method to that object to read data from the file.\n",
      "The first argument is the file path, the second parameter is the mode."
     ]
    }
   ],
   "source": [
    "#Q3 Write a Python program to read last n lines of mytxt file\n",
    "#[Hint: write a function]\n",
    "def LastNlines(fname, n):\n",
    "    try:\n",
    "        with open(fname) as file:\n",
    "            \n",
    "            for line in file.readlines()[-n:]:\n",
    "                print(line, end='')\n",
    "\n",
    "    except FileNotFoundError:\n",
    "        print('File not found')\n",
    "\n",
    "if __name__ == '__main__':\n",
    "    fname = 'mytxt.txt'\n",
    "    n = 1\n",
    "    LastNlines(fname, n)\n",
    "\n",
    "\n"
   ]
  },
  {
   "cell_type": "code",
   "execution_count": 13,
   "id": "16e459ee-2255-41be-9eed-1690d86d1245",
   "metadata": {},
   "outputs": [
    {
     "name": "stdout",
     "output_type": "stream",
     "text": [
      "6\n"
     ]
    }
   ],
   "source": [
    "#Q4 count the number of lines in mytxt file\n",
    "with open(\"mytxt.txt\", \"r\") as f:\n",
    "    line_count = sum(1 for line in f)\n",
    "\n",
    "print(line_count)\n"
   ]
  },
  {
   "cell_type": "code",
   "execution_count": null,
   "id": "6e6ce968-5e74-43db-aaad-2785b615e7e9",
   "metadata": {},
   "outputs": [],
   "source": [
    "#Q5 Write a Python program to generate 26 text files named A.txt, B.txt,... Z.txt\n",
    "import string,os\n",
    "if not os.path.exists(\"letters\"):\n",
    "    os.makedirs(\"letters\")\n",
    "for letter in string.ascit_uppercase:\n",
    "    with open(letter+\".txt\",\"w\") as f:\n",
    "        f.writelines(letter)"
   ]
  },
  {
   "cell_type": "code",
   "execution_count": 62,
   "id": "5a5cc3af-62ce-4543-87f7-65d8ee5f149e",
   "metadata": {},
   "outputs": [
    {
     "name": "stdout",
     "output_type": "stream",
     "text": [
      "In this section, we will use Python's built-in open function to create a file\n",
      "and obtain the data from a 'txt'file.\n",
      "We will use Python's open function to get a file object.\n",
      "We can apply a method to that object to read data from the file.\n",
      "The first argument is the file path, the second parameter is the mode.End of file\n",
      "\n"
     ]
    }
   ],
   "source": [
    "#Q6 Write a Python program to append \"End of file\" to mytxt file and\n",
    "# display the text\n",
    "with open(\"mytxt.txt\", \"a\") as f:\n",
    "    f.write(\"End of file\\n\")\n",
    "\n",
    "with open(\"mytxt.txt\", \"r\") as f:\n",
    "    content = f.read()\n",
    "    print(content)\n"
   ]
  },
  {
   "cell_type": "code",
   "execution_count": 1,
   "id": "ac72e9ab-24df-4573-bb4b-419a0c0806f7",
   "metadata": {},
   "outputs": [
    {
     "name": "stdout",
     "output_type": "stream",
     "text": [
      "In this section, we will use Python's built-in open function to create a fileand obtain the data from a 'txt'file.We will use Python's open function to get a file object.We can apply a method to that object to read data from the file.The first argument is the file path, the second parameter is the mode.End of file\n"
     ]
    }
   ],
   "source": [
    "# Q7 Write a Python program to remove newline characters from mytxt file\n",
    "def remove_newline_Character(file):\n",
    "    myFile=open(file,'r')\n",
    "    text=myFile.read().replace('\\n','')\n",
    "    myFile.close()\n",
    "    return(text)\n",
    "\n",
    "print(remove_newline_Character(\"mytxt.txt\"))"
   ]
  },
  {
   "cell_type": "code",
   "execution_count": 2,
   "id": "c1568dc2-b6fa-4fbc-9d73-ac43256dd48d",
   "metadata": {},
   "outputs": [
    {
     "data": {
      "text/plain": [
       "[\"'txt'file.\"]"
      ]
     },
     "execution_count": 2,
     "metadata": {},
     "output_type": "execute_result"
    }
   ],
   "source": [
    "# Q8 Write a python program to find the longest word in mytxt file\n",
    "\n",
    "def LongestWord(file):\n",
    "    with open(file) as files:\n",
    "        words = files.read().split()\n",
    "    max_len = len(max(words, key=len))\n",
    "    return[word for word in words if len(word)==max_len]\n",
    "LongestWord(\"mytxt.txt)"
   ]
  },
  {
   "cell_type": "code",
   "execution_count": null,
   "id": "4f42e175-9d6f-44b1-bcf9-b24c906ae173",
   "metadata": {},
   "outputs": [],
   "source": [
    "#Q7 Write a Python program to remove newline characters from mytxt file\n"
   ]
  },
  {
   "cell_type": "code",
   "execution_count": null,
   "id": "51aebcf9-7e34-4a25-a5dc-6db422b2a354",
   "metadata": {},
   "outputs": [],
   "source": [
    "#Q9 Write a Python program to count the frequency \"We\" in mytxt file"
   ]
  },
  {
   "cell_type": "code",
   "execution_count": 2,
   "id": "b36f72c1-4f0b-46f9-9f75-e297d27ab81c",
   "metadata": {},
   "outputs": [],
   "source": []
  },
  {
   "cell_type": "code",
   "execution_count": null,
   "id": "9575e21b-c7e9-43e6-a352-6ac1c1663c93",
   "metadata": {},
   "outputs": [],
   "source": []
  }
 ],
 "metadata": {
  "kernelspec": {
   "display_name": "Python 3 (ipykernel)",
   "language": "python",
   "name": "python3"
  },
  "language_info": {
   "codemirror_mode": {
    "name": "ipython",
    "version": 3
   },
   "file_extension": ".py",
   "mimetype": "text/x-python",
   "name": "python",
   "nbconvert_exporter": "python",
   "pygments_lexer": "ipython3",
   "version": "3.12.7"
  }
 },
 "nbformat": 4,
 "nbformat_minor": 5
}
